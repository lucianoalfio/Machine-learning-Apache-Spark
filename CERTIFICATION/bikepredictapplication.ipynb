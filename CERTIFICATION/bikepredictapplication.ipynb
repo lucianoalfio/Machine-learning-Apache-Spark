{
 "cells": [
  {
   "cell_type": "code",
   "execution_count": 1,
   "id": "63ce9c5e",
   "metadata": {
    "tags": []
   },
   "outputs": [],
   "source": [
    "from pyspark import SparkContext,SparkConf\n",
    "from pyspark.sql import SparkSession,SQLContext,Row\n",
    "from pyspark.streaming import StreamingContext\n",
    "#from pyspark.streaming.kafka import KafkaUtils\n",
    "from kafka import KafkaProducer\n",
    "import pyspark.sql.functions as F\n",
    "from pyspark.sql.types import *\n",
    "\n",
    "# machine learning APIs\n",
    "from pyspark.ml.feature import VectorAssembler, Vector\n",
    "from pyspark.ml.feature import Tokenizer\n",
    "from pyspark.ml.feature import StopWordsRemover\n",
    "from pyspark.ml.feature import CountVectorizer, CountVectorizerModel\n",
    "from pyspark.ml.feature import OneHotEncoder, StringIndexer\n",
    "from pyspark.ml.tuning import ParamGridBuilder, TrainValidationSplit\n",
    "from pyspark.ml.classification import LogisticRegression\n",
    "from pyspark.ml.regression import LinearRegression\n",
    "from pyspark.ml.evaluation import BinaryClassificationEvaluator\n",
    "from pyspark.ml.classification import RandomForestClassificationModel, RandomForestClassifier\n",
    "from pyspark.ml.regression import RandomForestRegressor\n",
    "from pyspark.ml.feature import NGram\n",
    "from pyspark.ml import Pipeline, PipelineModel\n",
    "from pyspark.ml.evaluation import RegressionEvaluator"
   ]
  },
  {
   "cell_type": "code",
   "execution_count": 2,
   "id": "894d7355",
   "metadata": {},
   "outputs": [
    {
     "name": "stdout",
     "output_type": "stream",
     "text": [
      "24/03/08 03:16:25 WARN Utils: Your hostname, nasa resolves to a loopback address: 127.0.1.1; using 10.0.2.15 instead (on interface enp0s3)\n",
      "24/03/08 03:16:25 WARN Utils: Set SPARK_LOCAL_IP if you need to bind to another address\n"
     ]
    },
    {
     "name": "stderr",
     "output_type": "stream",
     "text": [
      "Setting default log level to \"WARN\".\n",
      "To adjust logging level use sc.setLogLevel(newLevel). For SparkR, use setLogLevel(newLevel).\n"
     ]
    },
    {
     "name": "stdout",
     "output_type": "stream",
     "text": [
      "24/03/08 03:16:27 WARN Utils: Service 'SparkUI' could not bind on port 4040. Attempting port 4041.\n"
     ]
    }
   ],
   "source": [
    "spark = SparkSession.builder.master('spark://nasa:7077').appName('bikepredictionapp').config(\"spark.executor.memory\", \"1g\").config('spark.jars', 'mysql-connector-j-8.1.0.jar').config(\"spark.cores.max\", \"2\").getOrCreate()"
   ]
  },
  {
   "cell_type": "code",
   "execution_count": 3,
   "id": "09aad8aa",
   "metadata": {},
   "outputs": [],
   "source": [
    "spark.sparkContext.setLogLevel('ERROR')"
   ]
  },
  {
   "cell_type": "code",
   "execution_count": 4,
   "id": "9290d681",
   "metadata": {},
   "outputs": [
    {
     "data": {
      "text/html": [
       "\n",
       "            <div>\n",
       "                <p><b>SparkSession - in-memory</b></p>\n",
       "                \n",
       "        <div>\n",
       "            <p><b>SparkContext</b></p>\n",
       "\n",
       "            <p><a href=\"http://10.0.2.15:4041\">Spark UI</a></p>\n",
       "\n",
       "            <dl>\n",
       "              <dt>Version</dt>\n",
       "                <dd><code>v3.3.2</code></dd>\n",
       "              <dt>Master</dt>\n",
       "                <dd><code>spark://nasa:7077</code></dd>\n",
       "              <dt>AppName</dt>\n",
       "                <dd><code>bikepredictionapp</code></dd>\n",
       "            </dl>\n",
       "        </div>\n",
       "        \n",
       "            </div>\n",
       "        "
      ],
      "text/plain": [
       "<pyspark.sql.session.SparkSession at 0x7f3a6a1f4d30>"
      ]
     },
     "execution_count": 4,
     "metadata": {},
     "output_type": "execute_result"
    }
   ],
   "source": [
    "spark"
   ]
  },
  {
   "cell_type": "markdown",
   "id": "9d2ab0e2",
   "metadata": {},
   "source": [
    "# 1)  load data"
   ]
  },
  {
   "cell_type": "code",
   "execution_count": 5,
   "id": "5eb05708",
   "metadata": {},
   "outputs": [
    {
     "name": "stdout",
     "output_type": "stream",
     "text": [
      "Found 1 items\n",
      "-rw-r--r--   1 hadoop supergroup     323856 2024-03-08 03:21 project/test.csv\n"
     ]
    }
   ],
   "source": [
    "!hadoop fs -ls project"
   ]
  },
  {
   "cell_type": "code",
   "execution_count": 6,
   "id": "9becbe1d",
   "metadata": {},
   "outputs": [
    {
     "name": "stderr",
     "output_type": "stream",
     "text": [
      "                                                                                \r"
     ]
    },
    {
     "data": {
      "text/plain": [
       "6493"
      ]
     },
     "execution_count": 6,
     "metadata": {},
     "output_type": "execute_result"
    }
   ],
   "source": [
    "test = spark.read.csv('hdfs://localhost:9000/user/hadoop/project/test.csv', sep=',', header=True, inferSchema=True)\n",
    "test.count()"
   ]
  },
  {
   "cell_type": "code",
   "execution_count": 27,
   "id": "90123d75",
   "metadata": {},
   "outputs": [
    {
     "name": "stdout",
     "output_type": "stream",
     "text": [
      "['datetime', 'season', 'holiday', 'workingday', 'weather', 'temp', 'atemp', 'humidity', 'windspeed']\n"
     ]
    }
   ],
   "source": [
    "print(test.columns)"
   ]
  },
  {
   "cell_type": "code",
   "execution_count": 7,
   "id": "7f668394",
   "metadata": {},
   "outputs": [
    {
     "name": "stdout",
     "output_type": "stream",
     "text": [
      "+-------------------+------+-------+----------+-------+-----+------+--------+---------+\n",
      "|           datetime|season|holiday|workingday|weather| temp| atemp|humidity|windspeed|\n",
      "+-------------------+------+-------+----------+-------+-----+------+--------+---------+\n",
      "|2011-01-20 00:00:00|     1|      0|         1|      1|10.66|11.365|      56|  26.0027|\n",
      "|2011-01-20 01:00:00|     1|      0|         1|      1|10.66|13.635|      56|      0.0|\n",
      "+-------------------+------+-------+----------+-------+-----+------+--------+---------+\n",
      "only showing top 2 rows\n",
      "\n"
     ]
    }
   ],
   "source": [
    "test.show(2)"
   ]
  },
  {
   "cell_type": "code",
   "execution_count": 8,
   "id": "bc008567",
   "metadata": {},
   "outputs": [],
   "source": [
    "# define the most suitable categorical columns \n",
    "categorical_cols=['season','holiday','workingday','weather']\n",
    "onehotencoder = [OneHotEncoder(inputCol=col, outputCol=f'{col}_ecd') for col in categorical_cols]"
   ]
  },
  {
   "cell_type": "code",
   "execution_count": 9,
   "id": "2d4f88d9",
   "metadata": {
    "tags": []
   },
   "outputs": [
    {
     "name": "stdout",
     "output_type": "stream",
     "text": [
      "+-------------------+------+-------+----------+-------+-----+------+--------+---------+-------------+-------------+--------------+-------------+\n",
      "|           datetime|season|holiday|workingday|weather| temp| atemp|humidity|windspeed|   season_ecd|  holiday_ecd|workingday_ecd|  weather_ecd|\n",
      "+-------------------+------+-------+----------+-------+-----+------+--------+---------+-------------+-------------+--------------+-------------+\n",
      "|2011-01-20 00:00:00|     1|      0|         1|      1|10.66|11.365|      56|  26.0027|(4,[1],[1.0])|(1,[0],[1.0])|     (1,[],[])|(4,[1],[1.0])|\n",
      "|2011-01-20 01:00:00|     1|      0|         1|      1|10.66|13.635|      56|      0.0|(4,[1],[1.0])|(1,[0],[1.0])|     (1,[],[])|(4,[1],[1.0])|\n",
      "|2011-01-20 02:00:00|     1|      0|         1|      1|10.66|13.635|      56|      0.0|(4,[1],[1.0])|(1,[0],[1.0])|     (1,[],[])|(4,[1],[1.0])|\n",
      "+-------------------+------+-------+----------+-------+-----+------+--------+---------+-------------+-------------+--------------+-------------+\n",
      "only showing top 3 rows\n",
      "\n"
     ]
    }
   ],
   "source": [
    "# stage = stringindexer + onehotencoder\n",
    "stage = onehotencoder\n",
    "pipeline = Pipeline().setStages(stage)\n",
    "testdf = pipeline.fit(test).transform(test)\n",
    "testdf.show(3)"
   ]
  },
  {
   "cell_type": "markdown",
   "id": "ba744320",
   "metadata": {},
   "source": [
    "# 5-6) explode season and weather columns"
   ]
  },
  {
   "cell_type": "code",
   "execution_count": 10,
   "id": "3d5078c0",
   "metadata": {},
   "outputs": [],
   "source": [
    "testdf = testdf.withColumn('season_1',F.when(F.col('season')==1,1).otherwise(0))\n",
    "testdf = testdf.withColumn('season_2',F.when(F.col('season')==2,2).otherwise(0))\n",
    "testdf = testdf.withColumn('season_3',F.when(F.col('season')==3,3).otherwise(0))\n",
    "testdf = testdf.withColumn('season_4',F.when(F.col('season')==4,4).otherwise(0))\n"
   ]
  },
  {
   "cell_type": "code",
   "execution_count": 11,
   "id": "fe63d8a7",
   "metadata": {},
   "outputs": [],
   "source": [
    "testdf = testdf.withColumn('weather_1',F.when(F.col('weather')==1,1).otherwise(0))\n",
    "testdf = testdf.withColumn('weather_2',F.when(F.col('weather')==2,2).otherwise(0))\n",
    "testdf = testdf.withColumn('weather_3',F.when(F.col('weather')==3,3).otherwise(0))\n",
    "testdf = testdf.withColumn('weather_4',F.when(F.col('weather')==4,4).otherwise(0))\n"
   ]
  },
  {
   "cell_type": "code",
   "execution_count": 12,
   "id": "a3edeb48",
   "metadata": {},
   "outputs": [],
   "source": [
    "df = testdf.drop('season','weather')"
   ]
  },
  {
   "cell_type": "code",
   "execution_count": 13,
   "id": "5011a757",
   "metadata": {},
   "outputs": [
    {
     "name": "stdout",
     "output_type": "stream",
     "text": [
      "+-------------------+-------+----------+-----+------+--------+---------+-------------+-------------+--------------+-------------+--------+--------+--------+--------+---------+---------+---------+---------+----+-----+---+----+\n",
      "|           datetime|holiday|workingday| temp| atemp|humidity|windspeed|   season_ecd|  holiday_ecd|workingday_ecd|  weather_ecd|season_1|season_2|season_3|season_4|weather_1|weather_2|weather_3|weather_4|year|month|day|hour|\n",
      "+-------------------+-------+----------+-----+------+--------+---------+-------------+-------------+--------------+-------------+--------+--------+--------+--------+---------+---------+---------+---------+----+-----+---+----+\n",
      "|2011-01-20 00:00:00|      0|         1|10.66|11.365|      56|  26.0027|(4,[1],[1.0])|(1,[0],[1.0])|     (1,[],[])|(4,[1],[1.0])|       1|       0|       0|       0|        1|        0|        0|        0|2011|    1| 20|   0|\n",
      "+-------------------+-------+----------+-----+------+--------+---------+-------------+-------------+--------------+-------------+--------+--------+--------+--------+---------+---------+---------+---------+----+-----+---+----+\n",
      "only showing top 1 row\n",
      "\n"
     ]
    }
   ],
   "source": [
    "# convert column to timestamp and split\n",
    "df = df.withColumn('datetime', F.to_timestamp(F.col('datetime'),'d-M-y H:m'))\n",
    "dfdate=df.withColumn('year', F.year(F.col('datetime'))) \\\n",
    "        .withColumn('month', F.month(F.col('datetime'))) \\\n",
    "        .withColumn('day', F.dayofmonth(F.col('datetime'))) \\\n",
    "        .withColumn('hour', F.hour(F.col('datetime')))\n",
    "dfdate.show(1)"
   ]
  },
  {
   "cell_type": "markdown",
   "id": "aff57daf",
   "metadata": {},
   "source": [
    "# Load the model"
   ]
  },
  {
   "cell_type": "code",
   "execution_count": 14,
   "id": "90ea5dc5",
   "metadata": {},
   "outputs": [
    {
     "name": "stderr",
     "output_type": "stream",
     "text": [
      "                                                                                \r"
     ]
    }
   ],
   "source": [
    "gbtmodel = PipelineModel.load('gbtmodelbicyclesharingdemand')"
   ]
  },
  {
   "cell_type": "markdown",
   "id": "6b515bb3",
   "metadata": {},
   "source": [
    "# Predict bike demand"
   ]
  },
  {
   "cell_type": "code",
   "execution_count": 15,
   "id": "431cc907",
   "metadata": {},
   "outputs": [],
   "source": [
    "prediction = gbtmodel.transform(dfdate)"
   ]
  },
  {
   "cell_type": "code",
   "execution_count": 19,
   "id": "e81c89de",
   "metadata": {},
   "outputs": [
    {
     "name": "stdout",
     "output_type": "stream",
     "text": [
      "+-------------------+--------------------+------------------+\n",
      "|           datetime|            features|        prediction|\n",
      "+-------------------+--------------------+------------------+\n",
      "|2011-01-20 00:00:00|(24,[0,3,6,11,14,...|23.465818574905256|\n",
      "|2011-01-20 01:00:00|(24,[0,3,6,11,14,...| 5.518063563774762|\n",
      "|2011-01-20 02:00:00|(24,[0,3,6,11,14,...| 8.539117290060165|\n",
      "|2011-01-20 03:00:00|(24,[0,3,6,11,14,...| 1.049289183868266|\n",
      "|2011-01-20 04:00:00|(24,[0,3,6,11,14,...| 1.049289183868266|\n",
      "|2011-01-20 05:00:00|(24,[0,3,6,11,14,...|10.886511643902946|\n",
      "|2011-01-20 06:00:00|(24,[0,3,6,11,14,...| 28.92923160484577|\n",
      "|2011-01-20 07:00:00|(24,[0,3,6,11,14,...| 74.02308500962351|\n",
      "|2011-01-20 08:00:00|(24,[0,3,6,11,14,...|208.77944314537888|\n",
      "|2011-01-20 09:00:00|(24,[0,3,6,12,15,...| 86.86058236477967|\n",
      "+-------------------+--------------------+------------------+\n",
      "only showing top 10 rows\n",
      "\n"
     ]
    }
   ],
   "source": [
    "prediction.select('datetime','features','prediction').show(10)"
   ]
  },
  {
   "cell_type": "code",
   "execution_count": 20,
   "id": "5e01c702",
   "metadata": {},
   "outputs": [
    {
     "name": "stdout",
     "output_type": "stream",
     "text": [
      "+-------------------+------------------+\n",
      "|           datetime|        prediction|\n",
      "+-------------------+------------------+\n",
      "|2011-01-20 00:00:00|23.465818574905256|\n",
      "|2011-01-20 01:00:00| 5.518063563774762|\n",
      "+-------------------+------------------+\n",
      "only showing top 2 rows\n",
      "\n"
     ]
    }
   ],
   "source": [
    "bikeprediction = prediction.select('datetime','prediction')\n",
    "bikeprediction.show(2)"
   ]
  },
  {
   "cell_type": "markdown",
   "id": "8a668908",
   "metadata": {},
   "source": [
    "# Persist result in RDBMS "
   ]
  },
  {
   "cell_type": "code",
   "execution_count": 21,
   "id": "5cceaca1",
   "metadata": {},
   "outputs": [
    {
     "name": "stderr",
     "output_type": "stream",
     "text": [
      "                                                                                \r"
     ]
    }
   ],
   "source": [
    "bikeprediction.write \\\n",
    "   .mode('overwrite') \\\n",
    "   .format(\"jdbc\") \\\n",
    "  .option(\"driver\",\"com.mysql.cj.jdbc.Driver\") \\\n",
    "  .option(\"url\", \"jdbc:mysql://localhost:3306/sparkdb\") \\\n",
    "  .option(\"dbtable\", \"bikeprediction\") \\\n",
    "  .option(\"user\", \"hadoop\") \\\n",
    "  .option(\"password\", \"hadoop\") \\\n",
    "  .save()\n"
   ]
  },
  {
   "cell_type": "code",
   "execution_count": 22,
   "id": "e8af9f1a",
   "metadata": {},
   "outputs": [
    {
     "name": "stdout",
     "output_type": "stream",
     "text": [
      "+-------------------+------------------+\n",
      "|           datetime|        prediction|\n",
      "+-------------------+------------------+\n",
      "|2011-01-20 00:00:00|23.465818574905256|\n",
      "|2011-01-20 01:00:00| 5.518063563774762|\n",
      "|2011-01-20 02:00:00| 8.539117290060165|\n",
      "|2011-01-20 03:00:00| 1.049289183868266|\n",
      "|2011-01-20 04:00:00| 1.049289183868266|\n",
      "|2011-01-20 05:00:00|10.886511643902946|\n",
      "|2011-01-20 06:00:00| 28.92923160484577|\n",
      "|2011-01-20 07:00:00| 74.02308500962351|\n",
      "|2011-01-20 08:00:00|208.77944314537888|\n",
      "|2011-01-20 09:00:00| 86.86058236477967|\n",
      "+-------------------+------------------+\n",
      "only showing top 10 rows\n",
      "\n"
     ]
    }
   ],
   "source": [
    "dfdb = spark.read.format(\"jdbc\") \\\n",
    " .option(\"driver\",\"com.mysql.cj.jdbc.Driver\") \\\n",
    "  .option(\"url\", \"jdbc:mysql://localhost:3306/sparkdb\") \\\n",
    "  .option(\"dbtable\", \"bikeprediction\") \\\n",
    "  .option(\"user\", \"hadoop\") \\\n",
    "  .option(\"password\", \"hadoop\") \\\n",
    "  .load()\n",
    "\n",
    "dfdb.show(10)"
   ]
  },
  {
   "cell_type": "code",
   "execution_count": 57,
   "id": "d064dd4a",
   "metadata": {},
   "outputs": [],
   "source": [
    "spark.stop()"
   ]
  },
  {
   "cell_type": "code",
   "execution_count": null,
   "id": "4480b672",
   "metadata": {},
   "outputs": [],
   "source": []
  }
 ],
 "metadata": {
  "kernelspec": {
   "display_name": "Python 3 (ipykernel)",
   "language": "python",
   "name": "python3"
  },
  "language_info": {
   "codemirror_mode": {
    "name": "ipython",
    "version": 3
   },
   "file_extension": ".py",
   "mimetype": "text/x-python",
   "name": "python",
   "nbconvert_exporter": "python",
   "pygments_lexer": "ipython3",
   "version": "3.9.13"
  }
 },
 "nbformat": 4,
 "nbformat_minor": 5
}
