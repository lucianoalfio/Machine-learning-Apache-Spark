{
 "cells": [
  {
   "cell_type": "code",
   "execution_count": 1,
   "id": "7be08c18",
   "metadata": {
    "tags": []
   },
   "outputs": [],
   "source": [
    "from pyspark import SparkContext,SparkConf\n",
    "from pyspark.sql import SparkSession,SQLContext,Row\n",
    "from pyspark.streaming import StreamingContext\n",
    "#from pyspark.streaming.kafka import KafkaUtils\n",
    "from kafka import KafkaProducer\n",
    "import pyspark.sql.functions as F\n",
    "from pyspark.sql.types import *\n",
    "\n",
    "# machine learning APIs\n",
    "from pyspark.ml.feature import VectorAssembler, Vector\n",
    "from pyspark.ml.feature import Tokenizer\n",
    "from pyspark.ml.feature import StopWordsRemover\n",
    "from pyspark.ml.feature import CountVectorizer, CountVectorizerModel\n",
    "from pyspark.ml.feature import OneHotEncoder, StringIndexer\n",
    "from pyspark.ml.tuning import ParamGridBuilder, TrainValidationSplit\n",
    "from pyspark.ml.classification import LogisticRegression\n",
    "from pyspark.ml.regression import LinearRegression,DecisionTreeRegressor, GBTRegressor\n",
    "from pyspark.ml.evaluation import BinaryClassificationEvaluator\n",
    "from pyspark.ml.classification import RandomForestClassificationModel, RandomForestClassifier\n",
    "from pyspark.ml.regression import RandomForestRegressor\n",
    "from pyspark.ml.feature import NGram\n",
    "from pyspark.ml import Pipeline, PipelineModel\n",
    "from pyspark.ml.evaluation import RegressionEvaluator\n"
   ]
  },
  {
   "cell_type": "code",
   "execution_count": 6,
   "id": "447c6050",
   "metadata": {},
   "outputs": [],
   "source": [
    "spark = SparkSession.builder.master('spark://nasa:7077').appName('bikemodeldevelopment').config(\"spark.executor.memory\", \"1g\").config('spark.jars', 'mysql-connector-j-8.1.0.jar').config(\"spark.cores.max\", \"2\").getOrCreate()"
   ]
  },
  {
   "cell_type": "code",
   "execution_count": 7,
   "id": "f8af350f",
   "metadata": {},
   "outputs": [],
   "source": [
    "spark.sparkContext.setLogLevel('ERROR')"
   ]
  },
  {
   "cell_type": "code",
   "execution_count": 8,
   "id": "b7e13e7f",
   "metadata": {},
   "outputs": [
    {
     "data": {
      "text/html": [
       "\n",
       "            <div>\n",
       "                <p><b>SparkSession - in-memory</b></p>\n",
       "                \n",
       "        <div>\n",
       "            <p><b>SparkContext</b></p>\n",
       "\n",
       "            <p><a href=\"http://10.0.2.15:4041\">Spark UI</a></p>\n",
       "\n",
       "            <dl>\n",
       "              <dt>Version</dt>\n",
       "                <dd><code>v3.3.2</code></dd>\n",
       "              <dt>Master</dt>\n",
       "                <dd><code>spark://nasa:7077</code></dd>\n",
       "              <dt>AppName</dt>\n",
       "                <dd><code>bikemodeldevelopment</code></dd>\n",
       "            </dl>\n",
       "        </div>\n",
       "        \n",
       "            </div>\n",
       "        "
      ],
      "text/plain": [
       "<pyspark.sql.session.SparkSession at 0x792aa4534b80>"
      ]
     },
     "execution_count": 8,
     "metadata": {},
     "output_type": "execute_result"
    }
   ],
   "source": [
    "spark"
   ]
  },
  {
   "cell_type": "markdown",
   "id": "15ffb046",
   "metadata": {},
   "source": [
    "# Data exploration and transformation "
   ]
  },
  {
   "cell_type": "code",
   "execution_count": 5,
   "id": "d60bee46",
   "metadata": {},
   "outputs": [
    {
     "name": "stdout",
     "output_type": "stream",
     "text": [
      "total 640K\n",
      "-rw-rw-r-- 1 hadoop hadoop  617 mar  8 00:59 bikestreamdata.csv\n",
      "-rw-rw-r-- 1 hadoop hadoop 634K dez 11  2019 train.csv\n"
     ]
    }
   ],
   "source": [
    "!ls -lh dataset"
   ]
  },
  {
   "cell_type": "markdown",
   "id": "c423bce0",
   "metadata": {},
   "source": [
    "# 1)  Read dataset"
   ]
  },
  {
   "cell_type": "code",
   "execution_count": 9,
   "id": "a256aeb8",
   "metadata": {},
   "outputs": [
    {
     "name": "stdout",
     "output_type": "stream",
     "text": [
      "+-------------------+------+-------+----------+-------+----+------+--------+---------+------+----------+-----+\n",
      "|           datetime|season|holiday|workingday|weather|temp| atemp|humidity|windspeed|casual|registered|count|\n",
      "+-------------------+------+-------+----------+-------+----+------+--------+---------+------+----------+-----+\n",
      "|2011-01-01 00:00:00|     1|      0|         0|      1|9.84|14.395|      81|      0.0|     3|        13|   16|\n",
      "|2011-01-01 01:00:00|     1|      0|         0|      1|9.02|13.635|      80|      0.0|     8|        32|   40|\n",
      "+-------------------+------+-------+----------+-------+----+------+--------+---------+------+----------+-----+\n",
      "only showing top 2 rows\n",
      "\n"
     ]
    }
   ],
   "source": [
    "train = spark.read.csv('dataset/train.csv', sep=',', header=True, inferSchema=True)\n",
    "train.show(2)"
   ]
  },
  {
   "cell_type": "markdown",
   "id": "c78920a6",
   "metadata": {},
   "source": [
    "# 2) summary data types "
   ]
  },
  {
   "cell_type": "code",
   "execution_count": 7,
   "id": "7ac70eb8",
   "metadata": {},
   "outputs": [
    {
     "name": "stdout",
     "output_type": "stream",
     "text": [
      "root\n",
      " |-- datetime: timestamp (nullable = true)\n",
      " |-- season: integer (nullable = true)\n",
      " |-- holiday: integer (nullable = true)\n",
      " |-- workingday: integer (nullable = true)\n",
      " |-- weather: integer (nullable = true)\n",
      " |-- temp: double (nullable = true)\n",
      " |-- atemp: double (nullable = true)\n",
      " |-- humidity: integer (nullable = true)\n",
      " |-- windspeed: double (nullable = true)\n",
      " |-- casual: integer (nullable = true)\n",
      " |-- registered: integer (nullable = true)\n",
      " |-- count: integer (nullable = true)\n",
      "\n"
     ]
    }
   ],
   "source": [
    "train.printSchema()"
   ]
  },
  {
   "cell_type": "code",
   "execution_count": 8,
   "id": "5aea29db",
   "metadata": {},
   "outputs": [
    {
     "name": "stderr",
     "output_type": "stream",
     "text": [
      "[Stage 6:>                                                          (0 + 1) / 1]\r"
     ]
    },
    {
     "name": "stdout",
     "output_type": "stream",
     "text": [
      "+-------+------------------+-------------------+------------------+------------------+------------------+-----------------+------------------+------------------+-----------------+------------------+------------------+\n",
      "|summary|            season|            holiday|        workingday|           weather|              temp|            atemp|          humidity|         windspeed|           casual|        registered|             count|\n",
      "+-------+------------------+-------------------+------------------+------------------+------------------+-----------------+------------------+------------------+-----------------+------------------+------------------+\n",
      "|  count|             10886|              10886|             10886|             10886|             10886|            10886|             10886|             10886|            10886|             10886|             10886|\n",
      "|   mean|2.5066139996325556|0.02856880396839978|0.6808745177291935| 1.418427337865148|20.230859819952173|23.65508405291192| 61.88645967297446|12.799395406945093|36.02195480433584| 155.5521771082124|191.57413191254824|\n",
      "| stddev|1.1161743093443237|0.16659885062470944|0.4661591687997361|0.6338385858190968| 7.791589843987573| 8.47460062648494|19.245033277394704|  8.16453732683871|49.96047657264955|151.03903308192452|181.14445383028493|\n",
      "|    min|                 1|                  0|                 0|                 1|              0.82|             0.76|                 0|               0.0|                0|                 0|                 1|\n",
      "|    max|                 4|                  1|                 1|                 4|              41.0|           45.455|               100|           56.9969|              367|               886|               977|\n",
      "+-------+------------------+-------------------+------------------+------------------+------------------+-----------------+------------------+------------------+-----------------+------------------+------------------+\n",
      "\n"
     ]
    },
    {
     "name": "stderr",
     "output_type": "stream",
     "text": [
      "                                                                                \r"
     ]
    }
   ],
   "source": [
    "train.describe().show()"
   ]
  },
  {
   "cell_type": "markdown",
   "id": "0b197e49",
   "metadata": {},
   "source": [
    "# 3) understanding categorical columns "
   ]
  },
  {
   "cell_type": "code",
   "execution_count": 9,
   "id": "6a45d7cf",
   "metadata": {},
   "outputs": [
    {
     "name": "stdout",
     "output_type": "stream",
     "text": [
      "+-------------------+------+-------+----------+-------+----+------+--------+---------+------+----------+-----+\n",
      "|           datetime|season|holiday|workingday|weather|temp| atemp|humidity|windspeed|casual|registered|count|\n",
      "+-------------------+------+-------+----------+-------+----+------+--------+---------+------+----------+-----+\n",
      "|2011-01-01 00:00:00|     1|      0|         0|      1|9.84|14.395|      81|      0.0|     3|        13|   16|\n",
      "|2011-01-01 01:00:00|     1|      0|         0|      1|9.02|13.635|      80|      0.0|     8|        32|   40|\n",
      "+-------------------+------+-------+----------+-------+----+------+--------+---------+------+----------+-----+\n",
      "only showing top 2 rows\n",
      "\n"
     ]
    }
   ],
   "source": [
    "train.show(2)"
   ]
  },
  {
   "cell_type": "code",
   "execution_count": 10,
   "id": "feb9e289",
   "metadata": {},
   "outputs": [
    {
     "name": "stderr",
     "output_type": "stream",
     "text": [
      "[Stage 10:>                                                         (0 + 1) / 1]\r"
     ]
    },
    {
     "name": "stdout",
     "output_type": "stream",
     "text": [
      "+--------+------+-------+----------+-------+----+-----+--------+---------+------+----------+-----+\n",
      "|datetime|season|holiday|workingday|weather|temp|atemp|humidity|windspeed|casual|registered|count|\n",
      "+--------+------+-------+----------+-------+----+-----+--------+---------+------+----------+-----+\n",
      "|   10885|     4|      2|         2|      4|  49|   60|      89|       28|   309|       731|  822|\n",
      "+--------+------+-------+----------+-------+----+-----+--------+---------+------+----------+-----+\n",
      "\n"
     ]
    },
    {
     "name": "stderr",
     "output_type": "stream",
     "text": [
      "                                                                                \r"
     ]
    }
   ],
   "source": [
    "# check distinct columns values\n",
    "train.agg(*[F.countDistinct(col).alias(col) for col in train.columns ]).show()"
   ]
  },
  {
   "cell_type": "code",
   "execution_count": 10,
   "id": "c2539279",
   "metadata": {},
   "outputs": [],
   "source": [
    "# define the most suitable categorical columns \n",
    "categorical_cols=['season','holiday','workingday','weather']\n",
    "onehotencoder = [OneHotEncoder(inputCol=col, outputCol=f'{col}_ecd') for col in categorical_cols]"
   ]
  },
  {
   "cell_type": "code",
   "execution_count": 11,
   "id": "9a90b6a1",
   "metadata": {
    "tags": []
   },
   "outputs": [
    {
     "name": "stderr",
     "output_type": "stream",
     "text": [
      "[Stage 10:>                                                         (0 + 1) / 1]\r"
     ]
    },
    {
     "name": "stdout",
     "output_type": "stream",
     "text": [
      "+-------------------+------+-------+----------+-------+----+------+--------+---------+------+----------+-----+-------------+-------------+--------------+-------------+\n",
      "|           datetime|season|holiday|workingday|weather|temp| atemp|humidity|windspeed|casual|registered|count|   season_ecd|  holiday_ecd|workingday_ecd|  weather_ecd|\n",
      "+-------------------+------+-------+----------+-------+----+------+--------+---------+------+----------+-----+-------------+-------------+--------------+-------------+\n",
      "|2011-01-01 00:00:00|     1|      0|         0|      1|9.84|14.395|      81|      0.0|     3|        13|   16|(4,[1],[1.0])|(1,[0],[1.0])| (1,[0],[1.0])|(4,[1],[1.0])|\n",
      "|2011-01-01 01:00:00|     1|      0|         0|      1|9.02|13.635|      80|      0.0|     8|        32|   40|(4,[1],[1.0])|(1,[0],[1.0])| (1,[0],[1.0])|(4,[1],[1.0])|\n",
      "|2011-01-01 02:00:00|     1|      0|         0|      1|9.02|13.635|      80|      0.0|     5|        27|   32|(4,[1],[1.0])|(1,[0],[1.0])| (1,[0],[1.0])|(4,[1],[1.0])|\n",
      "+-------------------+------+-------+----------+-------+----+------+--------+---------+------+----------+-----+-------------+-------------+--------------+-------------+\n",
      "only showing top 3 rows\n",
      "\n"
     ]
    },
    {
     "name": "stderr",
     "output_type": "stream",
     "text": [
      "                                                                                \r"
     ]
    }
   ],
   "source": [
    "stage = onehotencoder\n",
    "pipeline = Pipeline().setStages(stage)\n",
    "traindf = pipeline.fit(train).transform(train)\n",
    "traindf.show(3)"
   ]
  },
  {
   "cell_type": "markdown",
   "id": "ffb9ce10",
   "metadata": {},
   "source": [
    "# 4) check missed value "
   ]
  },
  {
   "cell_type": "code",
   "execution_count": 13,
   "id": "0e91869e",
   "metadata": {},
   "outputs": [
    {
     "name": "stdout",
     "output_type": "stream",
     "text": [
      "+--------+------+-------+----------+-------+----+-----+--------+---------+------+----------+-----+----------+-----------+--------------+-----------+\n",
      "|datetime|season|holiday|workingday|weather|temp|atemp|humidity|windspeed|casual|registered|count|season_ecd|holiday_ecd|workingday_ecd|weather_ecd|\n",
      "+--------+------+-------+----------+-------+----+-----+--------+---------+------+----------+-----+----------+-----------+--------------+-----------+\n",
      "|       0|     0|      0|         0|      0|   0|    0|       0|        0|     0|         0|    0|         0|          0|             0|          0|\n",
      "+--------+------+-------+----------+-------+----+-----+--------+---------+------+----------+-----+----------+-----------+--------------+-----------+\n",
      "\n"
     ]
    }
   ],
   "source": [
    "# check null values\n",
    "traindf.agg(*[F.count(F.when(F.isnull(c), c)).alias(c) for c in traindf.columns]).show()"
   ]
  },
  {
   "cell_type": "markdown",
   "id": "0bf232b8",
   "metadata": {},
   "source": [
    "# 5-6) explode season and weather columns"
   ]
  },
  {
   "cell_type": "code",
   "execution_count": 14,
   "id": "b2658235",
   "metadata": {},
   "outputs": [
    {
     "name": "stdout",
     "output_type": "stream",
     "text": [
      "+------+\n",
      "|season|\n",
      "+------+\n",
      "|     1|\n",
      "|     3|\n",
      "|     4|\n",
      "|     2|\n",
      "+------+\n",
      "\n",
      "+-------+\n",
      "|weather|\n",
      "+-------+\n",
      "|      1|\n",
      "|      3|\n",
      "|      4|\n",
      "|      2|\n",
      "+-------+\n",
      "\n"
     ]
    },
    {
     "data": {
      "text/plain": [
       "(None, None)"
      ]
     },
     "execution_count": 14,
     "metadata": {},
     "output_type": "execute_result"
    }
   ],
   "source": [
    "traindf.select('season').distinct().show(),traindf.select('weather').distinct().show()"
   ]
  },
  {
   "cell_type": "code",
   "execution_count": 12,
   "id": "a14141ef",
   "metadata": {},
   "outputs": [],
   "source": [
    "traindf = traindf.withColumn('season_1',F.when(F.col('season')==1,1).otherwise(0))\n",
    "traindf = traindf.withColumn('season_2',F.when(F.col('season')==2,2).otherwise(0))\n",
    "traindf = traindf.withColumn('season_3',F.when(F.col('season')==3,3).otherwise(0))\n",
    "traindf = traindf.withColumn('season_4',F.when(F.col('season')==4,4).otherwise(0))\n"
   ]
  },
  {
   "cell_type": "code",
   "execution_count": 13,
   "id": "23dc13ce",
   "metadata": {},
   "outputs": [],
   "source": [
    "traindf = traindf.withColumn('weather_1',F.when(F.col('weather')==1,1).otherwise(0))\n",
    "traindf = traindf.withColumn('weather_2',F.when(F.col('weather')==2,2).otherwise(0))\n",
    "traindf = traindf.withColumn('weather_3',F.when(F.col('weather')==3,3).otherwise(0))\n",
    "traindf = traindf.withColumn('weather_4',F.when(F.col('weather')==4,4).otherwise(0))\n"
   ]
  },
  {
   "cell_type": "code",
   "execution_count": 14,
   "id": "ce4da863",
   "metadata": {},
   "outputs": [],
   "source": [
    "df = traindf\n",
    "# df = traindf.drop('season','weather')"
   ]
  },
  {
   "cell_type": "code",
   "execution_count": 12,
   "id": "3cc216ca",
   "metadata": {},
   "outputs": [
    {
     "name": "stdout",
     "output_type": "stream",
     "text": [
      "+-------------------+-------+----------+----+------+--------+---------+------+----------+-----+-------------+-------------+--------------+-------------+--------+--------+--------+--------+---------+---------+---------+---------+\n",
      "|           datetime|holiday|workingday|temp| atemp|humidity|windspeed|casual|registered|count|   season_ecd|  holiday_ecd|workingday_ecd|  weather_ecd|season_1|season_2|season_3|season_4|weather_1|weather_2|weather_3|weather_4|\n",
      "+-------------------+-------+----------+----+------+--------+---------+------+----------+-----+-------------+-------------+--------------+-------------+--------+--------+--------+--------+---------+---------+---------+---------+\n",
      "|2011-01-01 00:00:00|      0|         0|9.84|14.395|      81|      0.0|     3|        13|   16|(4,[1],[1.0])|(1,[0],[1.0])| (1,[0],[1.0])|(4,[1],[1.0])|       1|       0|       0|       0|        1|        0|        0|        0|\n",
      "|2011-01-01 01:00:00|      0|         0|9.02|13.635|      80|      0.0|     8|        32|   40|(4,[1],[1.0])|(1,[0],[1.0])| (1,[0],[1.0])|(4,[1],[1.0])|       1|       0|       0|       0|        1|        0|        0|        0|\n",
      "+-------------------+-------+----------+----+------+--------+---------+------+----------+-----+-------------+-------------+--------------+-------------+--------+--------+--------+--------+---------+---------+---------+---------+\n",
      "only showing top 2 rows\n",
      "\n"
     ]
    }
   ],
   "source": [
    "df.show(2)"
   ]
  },
  {
   "cell_type": "markdown",
   "id": "d47925e1",
   "metadata": {},
   "source": [
    "# 7) split datetime column in hour, day, month, year "
   ]
  },
  {
   "cell_type": "code",
   "execution_count": 15,
   "id": "e980b838",
   "metadata": {},
   "outputs": [],
   "source": [
    "df = df.withColumn('datetime', F.to_timestamp(F.col('datetime'),'d-M-y H:m'))"
   ]
  },
  {
   "cell_type": "code",
   "execution_count": 16,
   "id": "deaf65c2",
   "metadata": {},
   "outputs": [
    {
     "name": "stdout",
     "output_type": "stream",
     "text": [
      "+-------------------+----+-----+---+----+\n",
      "|           datetime|year|month|day|hour|\n",
      "+-------------------+----+-----+---+----+\n",
      "|2011-01-01 00:00:00|2011|    1|  1|   0|\n",
      "|2011-01-01 01:00:00|2011|    1|  1|   1|\n",
      "|2011-01-01 02:00:00|2011|    1|  1|   2|\n",
      "|2011-01-01 03:00:00|2011|    1|  1|   3|\n",
      "|2011-01-01 04:00:00|2011|    1|  1|   4|\n",
      "|2011-01-01 05:00:00|2011|    1|  1|   5|\n",
      "|2011-01-01 06:00:00|2011|    1|  1|   6|\n",
      "|2011-01-01 07:00:00|2011|    1|  1|   7|\n",
      "|2011-01-01 08:00:00|2011|    1|  1|   8|\n",
      "|2011-01-01 09:00:00|2011|    1|  1|   9|\n",
      "+-------------------+----+-----+---+----+\n",
      "only showing top 10 rows\n",
      "\n"
     ]
    }
   ],
   "source": [
    "dfdate=df.withColumn('year', F.year(F.col('datetime'))) \\\n",
    "        .withColumn('month', F.month(F.col('datetime'))) \\\n",
    "        .withColumn('day', F.dayofmonth(F.col('datetime'))) \\\n",
    "        .withColumn('hour', F.hour(F.col('datetime')))\n",
    "dfdate.select('datetime','year','month','day','hour').show(10)"
   ]
  },
  {
   "cell_type": "code",
   "execution_count": 15,
   "id": "5e3c1236",
   "metadata": {},
   "outputs": [
    {
     "name": "stdout",
     "output_type": "stream",
     "text": [
      "+-------------------+-------+----------+----+------+--------+---------+------+----------+-----+-------------+-------------+--------------+-------------+--------+--------+--------+--------+---------+---------+---------+---------+----+-----+---+----+\n",
      "|           datetime|holiday|workingday|temp| atemp|humidity|windspeed|casual|registered|count|   season_ecd|  holiday_ecd|workingday_ecd|  weather_ecd|season_1|season_2|season_3|season_4|weather_1|weather_2|weather_3|weather_4|year|month|day|hour|\n",
      "+-------------------+-------+----------+----+------+--------+---------+------+----------+-----+-------------+-------------+--------------+-------------+--------+--------+--------+--------+---------+---------+---------+---------+----+-----+---+----+\n",
      "|2011-01-01 00:00:00|      0|         0|9.84|14.395|      81|      0.0|     3|        13|   16|(4,[1],[1.0])|(1,[0],[1.0])| (1,[0],[1.0])|(4,[1],[1.0])|       1|       0|       0|       0|        1|        0|        0|        0|2011|    1|  1|   0|\n",
      "+-------------------+-------+----------+----+------+--------+---------+------+----------+-----+-------------+-------------+--------------+-------------+--------+--------+--------+--------+---------+---------+---------+---------+----+-----+---+----+\n",
      "only showing top 1 row\n",
      "\n"
     ]
    }
   ],
   "source": [
    "dfdate.show(1)"
   ]
  },
  {
   "cell_type": "code",
   "execution_count": 16,
   "id": "f808352f",
   "metadata": {},
   "outputs": [
    {
     "name": "stdout",
     "output_type": "stream",
     "text": [
      "['datetime', 'holiday', 'workingday', 'temp', 'atemp', 'humidity', 'windspeed', 'casual', 'registered', 'count', 'season_ecd', 'holiday_ecd', 'workingday_ecd', 'weather_ecd', 'season_1', 'season_2', 'season_3', 'season_4', 'weather_1', 'weather_2', 'weather_3', 'weather_4', 'year', 'month', 'day', 'hour']\n"
     ]
    }
   ],
   "source": [
    "print(dfdate.columns)"
   ]
  },
  {
   "cell_type": "markdown",
   "id": "a0d53dcc",
   "metadata": {},
   "source": [
    "# 8) explore feature count along the time"
   ]
  },
  {
   "cell_type": "code",
   "execution_count": 24,
   "id": "1b752776",
   "metadata": {},
   "outputs": [
    {
     "name": "stderr",
     "output_type": "stream",
     "text": [
      "                                                                                \r"
     ]
    },
    {
     "name": "stdout",
     "output_type": "stream",
     "text": [
      "+-----+-----+\n",
      "|month|Count|\n",
      "+-----+-----+\n",
      "|   12|  912|\n",
      "|    8|  912|\n",
      "|    6|  912|\n",
      "|    7|  912|\n",
      "|    5|  912|\n",
      "|   10|  911|\n",
      "|   11|  911|\n",
      "|    9|  909|\n",
      "|    4|  909|\n",
      "|    2|  901|\n",
      "|    3|  901|\n",
      "|    1|  884|\n",
      "+-----+-----+\n",
      "\n",
      "+----+-----+\n",
      "|hour|Count|\n",
      "+----+-----+\n",
      "|  13|  456|\n",
      "|  22|  456|\n",
      "|  14|  456|\n",
      "|  18|  456|\n",
      "|  19|  456|\n",
      "|  15|  456|\n",
      "|  12|  456|\n",
      "|  17|  456|\n",
      "|  16|  456|\n",
      "|  23|  456|\n",
      "|  21|  456|\n",
      "|  20|  456|\n",
      "|   6|  455|\n",
      "|   7|  455|\n",
      "|   1|  455|\n",
      "|   9|  455|\n",
      "|  10|  455|\n",
      "|   8|  455|\n",
      "|  11|  455|\n",
      "|   0|  454|\n",
      "+----+-----+\n",
      "only showing top 20 rows\n",
      "\n"
     ]
    }
   ],
   "source": [
    "dfdate.groupby('month').agg(F.count('count').alias('Count')).sort(F.desc('Count')).show()\n",
    "dfdate.groupby('hour').agg(F.count('count').alias('Count')).sort(F.desc('Count')).show()"
   ]
  },
  {
   "cell_type": "markdown",
   "id": "78d9ea4a",
   "metadata": {},
   "source": [
    "# Model development "
   ]
  },
  {
   "cell_type": "markdown",
   "id": "47a3fafe",
   "metadata": {},
   "source": [
    "## Split data "
   ]
  },
  {
   "cell_type": "code",
   "execution_count": 17,
   "id": "8592a5e5",
   "metadata": {},
   "outputs": [
    {
     "name": "stderr",
     "output_type": "stream",
     "text": [
      "                                                                                \r"
     ]
    },
    {
     "data": {
      "text/plain": [
       "(7630, 3256)"
      ]
     },
     "execution_count": 17,
     "metadata": {},
     "output_type": "execute_result"
    }
   ],
   "source": [
    "# split data to test the model\n",
    "traindata,testdata = dfdate.randomSplit([0.7,0.3],seed=1234)\n",
    "traindata.count(),testdata.count()"
   ]
  },
  {
   "cell_type": "code",
   "execution_count": 18,
   "id": "f6d50ac9-09a4-44c4-a2ca-afcabb118602",
   "metadata": {},
   "outputs": [
    {
     "name": "stdout",
     "output_type": "stream",
     "text": [
      "root\n",
      " |-- datetime: timestamp (nullable = true)\n",
      " |-- season: integer (nullable = true)\n",
      " |-- holiday: integer (nullable = true)\n",
      " |-- workingday: integer (nullable = true)\n",
      " |-- weather: integer (nullable = true)\n",
      " |-- temp: double (nullable = true)\n",
      " |-- atemp: double (nullable = true)\n",
      " |-- humidity: integer (nullable = true)\n",
      " |-- windspeed: double (nullable = true)\n",
      " |-- casual: integer (nullable = true)\n",
      " |-- registered: integer (nullable = true)\n",
      " |-- count: integer (nullable = true)\n",
      " |-- season_ecd: vector (nullable = true)\n",
      " |-- holiday_ecd: vector (nullable = true)\n",
      " |-- workingday_ecd: vector (nullable = true)\n",
      " |-- weather_ecd: vector (nullable = true)\n",
      " |-- season_1: integer (nullable = false)\n",
      " |-- season_2: integer (nullable = false)\n",
      " |-- season_3: integer (nullable = false)\n",
      " |-- season_4: integer (nullable = false)\n",
      " |-- weather_1: integer (nullable = false)\n",
      " |-- weather_2: integer (nullable = false)\n",
      " |-- weather_3: integer (nullable = false)\n",
      " |-- weather_4: integer (nullable = false)\n",
      " |-- year: integer (nullable = true)\n",
      " |-- month: integer (nullable = true)\n",
      " |-- day: integer (nullable = true)\n",
      " |-- hour: integer (nullable = true)\n",
      "\n"
     ]
    }
   ],
   "source": [
    "traindata.printSchema()"
   ]
  },
  {
   "cell_type": "markdown",
   "id": "322a806a",
   "metadata": {},
   "source": [
    "## Regression algorithms"
   ]
  },
  {
   "cell_type": "code",
   "execution_count": 19,
   "id": "c7df9581",
   "metadata": {},
   "outputs": [
    {
     "name": "stdout",
     "output_type": "stream",
     "text": [
      "['datetime', 'season', 'holiday', 'workingday', 'weather', 'temp', 'atemp', 'humidity', 'windspeed', 'casual', 'registered', 'count', 'season_ecd', 'holiday_ecd', 'workingday_ecd', 'weather_ecd', 'season_1', 'season_2', 'season_3', 'season_4', 'weather_1', 'weather_2', 'weather_3', 'weather_4', 'year', 'month', 'day', 'hour']\n"
     ]
    },
    {
     "data": {
      "text/plain": [
       "28"
      ]
     },
     "execution_count": 19,
     "metadata": {},
     "output_type": "execute_result"
    }
   ],
   "source": [
    "# traindata = traindata.drop('casual','registered')\n",
    "print(traindata.columns)\n",
    "len(traindata.columns)"
   ]
  },
  {
   "cell_type": "code",
   "execution_count": 20,
   "id": "5860b59a",
   "metadata": {},
   "outputs": [
    {
     "data": {
      "text/plain": [
       "12"
      ]
     },
     "execution_count": 20,
     "metadata": {},
     "output_type": "execute_result"
    }
   ],
   "source": [
    "feature = [ 'holiday', 'workingday', 'temp', 'count', 'season_ecd', 'holiday_ecd', 'workingday_ecd', 'weather_ecd', 'year', 'month', 'day', 'hour']\n",
    "\n",
    "len(feature)"
   ]
  },
  {
   "cell_type": "code",
   "execution_count": 21,
   "id": "47b2c25b",
   "metadata": {},
   "outputs": [],
   "source": [
    "vectorassembler = VectorAssembler(inputCols=feature, outputCol='features')\n",
    "\n",
    "# vectorassembler = VectorAssembler(inputCols=feature, outputCol='features',handleInvalid=\"skip\")"
   ]
  },
  {
   "cell_type": "markdown",
   "id": "a1482fae",
   "metadata": {},
   "source": [
    "# Linear regression implementation "
   ]
  },
  {
   "cell_type": "code",
   "execution_count": 22,
   "id": "e19d8141",
   "metadata": {},
   "outputs": [],
   "source": [
    "# model setting\n",
    "lr = LinearRegression(featuresCol=\"features\", labelCol=\"count\", maxIter=100, regParam=0.8, elasticNetParam=0.2)"
   ]
  },
  {
   "cell_type": "code",
   "execution_count": 23,
   "id": "485aa8d3",
   "metadata": {},
   "outputs": [],
   "source": [
    "# pipeline\n",
    "pipeline = Pipeline().setStages([vectorassembler,lr])"
   ]
  },
  {
   "cell_type": "code",
   "execution_count": 24,
   "id": "69f18be8",
   "metadata": {},
   "outputs": [
    {
     "name": "stderr",
     "output_type": "stream",
     "text": [
      "                                                                                \r"
     ]
    }
   ],
   "source": [
    "# training model\n",
    "lrmodel = pipeline.fit(traindata)\n",
    "predictionlr = lrmodel.transform(testdata)"
   ]
  },
  {
   "cell_type": "code",
   "execution_count": 25,
   "id": "018bbddb",
   "metadata": {},
   "outputs": [
    {
     "name": "stdout",
     "output_type": "stream",
     "text": [
      "+--------------------+-----+------------------+\n",
      "|            features|count|        prediction|\n",
      "+--------------------+-----+------------------+\n",
      "|(18,[2,3,5,8,9,11...|   16|   16.254671829779|\n",
      "|(18,[2,3,5,8,9,11...|   40| 40.13419650353228|\n",
      "|(18,[2,3,5,8,9,11...|    1|1.4568736550925792|\n",
      "|(18,[2,3,5,8,9,12...|   34|  34.9524258604564|\n",
      "|(18,[2,3,5,8,9,12...|   17| 17.47186565716089|\n",
      "|(18,[2,3,5,8,9,12...|   17|17.481800632114698|\n",
      "|(18,[2,3,5,8,9,12...|    9| 9.535205707468663|\n",
      "|(18,[2,3,5,8,9,12...|    6| 6.622158585508544|\n",
      "|(18,[2,3,5,8,9,13...|    2|2.6939374323820857|\n",
      "|(18,[2,3,5,8,9,13...|    8| 8.701443678801581|\n",
      "+--------------------+-----+------------------+\n",
      "only showing top 10 rows\n",
      "\n"
     ]
    }
   ],
   "source": [
    "predictionlr.select('features','count','prediction').show(10)"
   ]
  },
  {
   "cell_type": "code",
   "execution_count": 26,
   "id": "576cec52",
   "metadata": {},
   "outputs": [
    {
     "name": "stderr",
     "output_type": "stream",
     "text": [
      "                                                                                \r"
     ]
    }
   ],
   "source": [
    "# evaluate the model accuracy\n",
    "evaluator = RegressionEvaluator(labelCol=\"count\", predictionCol=\"prediction\", metricName=\"rmse\")\n",
    "rmse = evaluator.evaluate(predictionlr)"
   ]
  },
  {
   "cell_type": "code",
   "execution_count": 27,
   "id": "50c9538b",
   "metadata": {},
   "outputs": [
    {
     "name": "stdout",
     "output_type": "stream",
     "text": [
      "Root Mean Squared Error (RMSE): 0.8522963740033911\n"
     ]
    }
   ],
   "source": [
    "# Show  RMSE\n",
    "print(f\"Root Mean Squared Error (RMSE): {rmse}\")"
   ]
  },
  {
   "cell_type": "markdown",
   "id": "d223b107",
   "metadata": {},
   "source": [
    "# Random forest "
   ]
  },
  {
   "cell_type": "code",
   "execution_count": 28,
   "id": "cc29161c",
   "metadata": {},
   "outputs": [],
   "source": [
    "# model setting\n",
    "rf = RandomForestRegressor(featuresCol=\"features\", labelCol=\"count\",numTrees=10, maxDepth=25, maxBins=32, seed=1234)"
   ]
  },
  {
   "cell_type": "code",
   "execution_count": 29,
   "id": "2739db57",
   "metadata": {},
   "outputs": [],
   "source": [
    "# pipeline\n",
    "pipeline = Pipeline().setStages([vectorassembler,rf])"
   ]
  },
  {
   "cell_type": "code",
   "execution_count": 30,
   "id": "14f0eaf8",
   "metadata": {},
   "outputs": [
    {
     "name": "stderr",
     "output_type": "stream",
     "text": [
      "                                                                                \r"
     ]
    }
   ],
   "source": [
    "# training model\n",
    "rfmodel = pipeline.fit(traindata)\n",
    "predictionrf = rfmodel.transform(testdata)"
   ]
  },
  {
   "cell_type": "code",
   "execution_count": 31,
   "id": "a7e271b7",
   "metadata": {},
   "outputs": [
    {
     "name": "stdout",
     "output_type": "stream",
     "text": [
      "+--------------------+-----+------------------+\n",
      "|            features|count|        prediction|\n",
      "+--------------------+-----+------------------+\n",
      "|(18,[2,3,5,8,9,11...|   16|              15.8|\n",
      "|(18,[2,3,5,8,9,11...|   40| 33.36666666666666|\n",
      "|(18,[2,3,5,8,9,11...|    1|               2.1|\n",
      "|(18,[2,3,5,8,9,12...|   34| 33.77333333333333|\n",
      "|(18,[2,3,5,8,9,12...|   17|              18.1|\n",
      "|(18,[2,3,5,8,9,12...|   17|              17.3|\n",
      "|(18,[2,3,5,8,9,12...|    9|             11.55|\n",
      "|(18,[2,3,5,8,9,12...|    6|              9.65|\n",
      "|(18,[2,3,5,8,9,13...|    2|              4.04|\n",
      "|(18,[2,3,5,8,9,13...|    8|22.669047619047618|\n",
      "+--------------------+-----+------------------+\n",
      "only showing top 10 rows\n",
      "\n"
     ]
    },
    {
     "name": "stderr",
     "output_type": "stream",
     "text": [
      "                                                                                \r"
     ]
    }
   ],
   "source": [
    "predictionrf.select('features','count','prediction').show(10)"
   ]
  },
  {
   "cell_type": "code",
   "execution_count": 32,
   "id": "51dc022a",
   "metadata": {},
   "outputs": [
    {
     "name": "stderr",
     "output_type": "stream",
     "text": [
      "                                                                                \r"
     ]
    }
   ],
   "source": [
    "# evaluate the model accuracy\n",
    "evaluator = RegressionEvaluator(labelCol=\"count\", predictionCol=\"prediction\", metricName=\"rmse\")\n",
    "rmserf = evaluator.evaluate(predictionrf)"
   ]
  },
  {
   "cell_type": "code",
   "execution_count": 33,
   "id": "7de9d58c",
   "metadata": {},
   "outputs": [
    {
     "name": "stdout",
     "output_type": "stream",
     "text": [
      "Root Mean Squared Error (RMSE): 15.554131865945793\n"
     ]
    }
   ],
   "source": [
    "# Show  RMSE\n",
    "print(f\"Root Mean Squared Error (RMSE): {rmserf}\")"
   ]
  },
  {
   "cell_type": "markdown",
   "id": "4e298165",
   "metadata": {},
   "source": [
    "# Decision Tree Regressor "
   ]
  },
  {
   "cell_type": "code",
   "execution_count": 70,
   "id": "2ba62273",
   "metadata": {},
   "outputs": [],
   "source": [
    "# model setting\n",
    "dtr = DecisionTreeRegressor(featuresCol=\"features\", labelCol=\"count\",maxDepth=5, maxBins=32, minInstancesPerNode=2, minInfoGain=0.0, seed=1234)"
   ]
  },
  {
   "cell_type": "code",
   "execution_count": 71,
   "id": "afe2b4c9",
   "metadata": {},
   "outputs": [],
   "source": [
    "# pipeline\n",
    "pipeline = Pipeline().setStages([vectorassembler,dtr])"
   ]
  },
  {
   "cell_type": "code",
   "execution_count": 72,
   "id": "4c175188",
   "metadata": {},
   "outputs": [],
   "source": [
    "# training model\n",
    "dtrmodel = pipeline.fit(traindata)\n",
    "predictiondtr = dtrmodel.transform(testdata)"
   ]
  },
  {
   "cell_type": "code",
   "execution_count": 73,
   "id": "6a07b341",
   "metadata": {},
   "outputs": [
    {
     "name": "stdout",
     "output_type": "stream",
     "text": [
      "+--------------------+-----+------------------+\n",
      "|            features|count|        prediction|\n",
      "+--------------------+-----+------------------+\n",
      "|(24,[0,1,3,6,11,1...|   16| 71.65573770491804|\n",
      "|(24,[0,1,3,6,11,1...|   40|61.917073170731705|\n",
      "|(24,[0,1,3,6,11,1...|    1|14.447019867549669|\n",
      "|(24,[0,1,3,6,12,1...|   34| 53.04950495049505|\n",
      "|(24,[0,1,3,6,12,1...|   17| 71.65573770491804|\n",
      "|(24,[0,1,3,6,12,1...|   17|61.917073170731705|\n",
      "|(24,[0,1,3,6,12,1...|    9|61.917073170731705|\n",
      "|(24,[0,1,3,6,12,1...|    6|14.447019867549669|\n",
      "|(24,[0,1,3,6,13,1...|    2|              20.0|\n",
      "|(24,[0,1,3,6,13,1...|    8|110.55213675213675|\n",
      "+--------------------+-----+------------------+\n",
      "only showing top 10 rows\n",
      "\n"
     ]
    }
   ],
   "source": [
    "predictiondtr.select('features','count','prediction').show(10)"
   ]
  },
  {
   "cell_type": "code",
   "execution_count": 74,
   "id": "8adb7310",
   "metadata": {},
   "outputs": [],
   "source": [
    "# evaluate the model accuracy\n",
    "evaluator = RegressionEvaluator(labelCol=\"count\", predictionCol=\"prediction\", metricName=\"rmse\")\n",
    "rmsedtr = evaluator.evaluate(predictiondtr)"
   ]
  },
  {
   "cell_type": "code",
   "execution_count": 75,
   "id": "76aeaf22",
   "metadata": {},
   "outputs": [
    {
     "name": "stdout",
     "output_type": "stream",
     "text": [
      "Root Mean Squared Error (RMSE): 109.0188618316442\n"
     ]
    }
   ],
   "source": [
    "# Show  RMSE\n",
    "print(f\"Root Mean Squared Error (RMSE): {rmsedtr}\")"
   ]
  },
  {
   "cell_type": "markdown",
   "id": "c38120c4",
   "metadata": {},
   "source": [
    "# GBT Regressor  "
   ]
  },
  {
   "cell_type": "code",
   "execution_count": 92,
   "id": "c425d385",
   "metadata": {},
   "outputs": [],
   "source": [
    "# model setting\n",
    "gbt = GBTRegressor(featuresCol=\"features\", labelCol=\"count\",maxIter=10, maxDepth=10,seed=1234)"
   ]
  },
  {
   "cell_type": "code",
   "execution_count": 93,
   "id": "b7ef4f5f",
   "metadata": {},
   "outputs": [],
   "source": [
    "# pipeline\n",
    "pipeline = Pipeline().setStages([vectorassembler,gbt])"
   ]
  },
  {
   "cell_type": "code",
   "execution_count": 94,
   "id": "bff07a8d",
   "metadata": {},
   "outputs": [],
   "source": [
    "# training model\n",
    "gbtmodel = pipeline.fit(traindata)\n",
    "predictiongbt = gbtmodel.transform(testdata)"
   ]
  },
  {
   "cell_type": "code",
   "execution_count": 95,
   "id": "b3031f59",
   "metadata": {},
   "outputs": [
    {
     "name": "stdout",
     "output_type": "stream",
     "text": [
      "+--------------------+-----+------------------+\n",
      "|            features|count|        prediction|\n",
      "+--------------------+-----+------------------+\n",
      "|(24,[0,3,7,10,14,...|    1| 2.897580222130014|\n",
      "|(24,[0,3,7,10,14,...|    1|1.5788989034486953|\n",
      "|(24,[0,3,7,10,14,...|   14|16.989734142350272|\n",
      "|(24,[0,1,3,7,10,1...|   26|62.095216048495466|\n",
      "|(24,[0,1,3,9,10,1...|   24|  46.6383101293009|\n",
      "|(24,[0,3,7,10,14,...|    7| 7.274393456773156|\n",
      "|(24,[0,3,7,10,14,...|   68| 32.30023170853538|\n",
      "|(24,[0,3,7,10,14,...|   17| 9.983125827339773|\n",
      "|(24,[0,3,7,10,14,...|  199| 200.6515169642931|\n",
      "|(24,[0,1,3,7,10,1...|   12|21.216400386806015|\n",
      "+--------------------+-----+------------------+\n",
      "only showing top 10 rows\n",
      "\n"
     ]
    }
   ],
   "source": [
    "predictiongbt.select('features','count','prediction').show(10)"
   ]
  },
  {
   "cell_type": "code",
   "execution_count": 96,
   "id": "a1100046",
   "metadata": {},
   "outputs": [],
   "source": [
    "# evaluate the model accuracy\n",
    "evaluator = RegressionEvaluator(labelCol=\"count\", predictionCol=\"prediction\", metricName=\"rmse\")\n",
    "rmsegbt = evaluator.evaluate(predictiongbt)"
   ]
  },
  {
   "cell_type": "code",
   "execution_count": 97,
   "id": "e5f3f543",
   "metadata": {},
   "outputs": [
    {
     "name": "stdout",
     "output_type": "stream",
     "text": [
      "Root Mean Squared Error (RMSE): 59.221514677453484\n"
     ]
    }
   ],
   "source": [
    "# Show  RMSE\n",
    "print(f\"Root Mean Squared Error (RMSE): {rmsegbt}\")"
   ]
  },
  {
   "cell_type": "markdown",
   "id": "0f352612",
   "metadata": {},
   "source": [
    "# best choose model  "
   ]
  },
  {
   "cell_type": "code",
   "execution_count": 53,
   "id": "bc513f4d",
   "metadata": {},
   "outputs": [],
   "source": [
    "# the best model is linear regression"
   ]
  },
  {
   "cell_type": "code",
   "execution_count": 240,
   "id": "d94c9396",
   "metadata": {},
   "outputs": [
    {
     "name": "stdout",
     "output_type": "stream",
     "text": [
      "Model saved\n",
      "drwxr-xr-x 4 hadoop hadoop 4096 mar 11 05:37 lrmodel\n"
     ]
    }
   ],
   "source": [
    "# persist the model\n",
    "lrmodel.write().overwrite().save(\"lrmodel\")\n",
    "print('Model saved')\n",
    "!ls -ld lr*"
   ]
  },
  {
   "cell_type": "code",
   "execution_count": 100,
   "id": "8b71d0ec",
   "metadata": {},
   "outputs": [],
   "source": [
    "spark.stop()"
   ]
  },
  {
   "cell_type": "code",
   "execution_count": null,
   "id": "95e70578-d62f-437b-9176-b00c18fde29d",
   "metadata": {},
   "outputs": [],
   "source": []
  }
 ],
 "metadata": {
  "kernelspec": {
   "display_name": "Python 3 (ipykernel)",
   "language": "python",
   "name": "python3"
  },
  "language_info": {
   "codemirror_mode": {
    "name": "ipython",
    "version": 3
   },
   "file_extension": ".py",
   "mimetype": "text/x-python",
   "name": "python",
   "nbconvert_exporter": "python",
   "pygments_lexer": "ipython3",
   "version": "3.9.13"
  }
 },
 "nbformat": 4,
 "nbformat_minor": 5
}
